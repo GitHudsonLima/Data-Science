{
 "cells": [
  {
   "cell_type": "markdown",
   "metadata": {},
   "source": [
    "# Módulo 6 tarefa 3\n",
    "\n",
    "#### 1) A base 'sinasc_RO_2019.csv' contém dados do sistema de nascidos vivos do DataSUS, cujo dicionário de dados está no arquivo 'Estrutura_SINASC_para_CD.pdf'. Carregue esse arquivo."
   ]
  },
  {
   "cell_type": "code",
   "execution_count": 229,
   "metadata": {},
   "outputs": [],
   "source": [
    "import matplotlib.pyplot as plt\n",
    "import seaborn as sns\n",
    "import pandas as pd\n",
    "import numpy as np\n",
    "%matplotlib inline\n",
    "\n"
   ]
  },
  {
   "cell_type": "code",
   "execution_count": 230,
   "metadata": {},
   "outputs": [
    {
     "name": "stdout",
     "output_type": "stream",
     "text": [
      "(27028, 69)\n",
      "(27028, 69)\n"
     ]
    },
    {
     "data": {
      "text/html": [
       "<div>\n",
       "<style scoped>\n",
       "    .dataframe tbody tr th:only-of-type {\n",
       "        vertical-align: middle;\n",
       "    }\n",
       "\n",
       "    .dataframe tbody tr th {\n",
       "        vertical-align: top;\n",
       "    }\n",
       "\n",
       "    .dataframe thead th {\n",
       "        text-align: right;\n",
       "    }\n",
       "</style>\n",
       "<table border=\"1\" class=\"dataframe\">\n",
       "  <thead>\n",
       "    <tr style=\"text-align: right;\">\n",
       "      <th></th>\n",
       "      <th>ORIGEM</th>\n",
       "      <th>CODESTAB</th>\n",
       "      <th>CODMUNNASC</th>\n",
       "      <th>LOCNASC</th>\n",
       "      <th>IDADEMAE</th>\n",
       "      <th>ESTCIVMAE</th>\n",
       "      <th>ESCMAE</th>\n",
       "      <th>CODOCUPMAE</th>\n",
       "      <th>QTDFILVIVO</th>\n",
       "      <th>QTDFILMORT</th>\n",
       "      <th>...</th>\n",
       "      <th>KOTELCHUCK</th>\n",
       "      <th>CONTADOR</th>\n",
       "      <th>munResStatus</th>\n",
       "      <th>munResTipo</th>\n",
       "      <th>munResNome</th>\n",
       "      <th>munResUf</th>\n",
       "      <th>munResLat</th>\n",
       "      <th>munResLon</th>\n",
       "      <th>munResAlt</th>\n",
       "      <th>munResArea</th>\n",
       "    </tr>\n",
       "  </thead>\n",
       "  <tbody>\n",
       "    <tr>\n",
       "      <th>0</th>\n",
       "      <td>1</td>\n",
       "      <td>2679477.0</td>\n",
       "      <td>110001</td>\n",
       "      <td>1</td>\n",
       "      <td>19</td>\n",
       "      <td>5.0</td>\n",
       "      <td>8 a 11 anos</td>\n",
       "      <td>NaN</td>\n",
       "      <td>0.0</td>\n",
       "      <td>0.0</td>\n",
       "      <td>...</td>\n",
       "      <td>5</td>\n",
       "      <td>1</td>\n",
       "      <td>ATIVO</td>\n",
       "      <td>MUNIC</td>\n",
       "      <td>Alta Floresta D'Oeste</td>\n",
       "      <td>Rondônia</td>\n",
       "      <td>-11.93554</td>\n",
       "      <td>-61.99982</td>\n",
       "      <td>338.0</td>\n",
       "      <td>7067.025</td>\n",
       "    </tr>\n",
       "    <tr>\n",
       "      <th>1</th>\n",
       "      <td>1</td>\n",
       "      <td>2679477.0</td>\n",
       "      <td>110001</td>\n",
       "      <td>1</td>\n",
       "      <td>29</td>\n",
       "      <td>2.0</td>\n",
       "      <td>8 a 11 anos</td>\n",
       "      <td>999992.0</td>\n",
       "      <td>1.0</td>\n",
       "      <td>0.0</td>\n",
       "      <td>...</td>\n",
       "      <td>5</td>\n",
       "      <td>2</td>\n",
       "      <td>ATIVO</td>\n",
       "      <td>MUNIC</td>\n",
       "      <td>Alta Floresta D'Oeste</td>\n",
       "      <td>Rondônia</td>\n",
       "      <td>-11.93554</td>\n",
       "      <td>-61.99982</td>\n",
       "      <td>338.0</td>\n",
       "      <td>7067.025</td>\n",
       "    </tr>\n",
       "  </tbody>\n",
       "</table>\n",
       "<p>2 rows × 69 columns</p>\n",
       "</div>"
      ],
      "text/plain": [
       "   ORIGEM   CODESTAB  CODMUNNASC  LOCNASC  IDADEMAE  ESTCIVMAE       ESCMAE  \\\n",
       "0       1  2679477.0      110001        1        19        5.0  8 a 11 anos   \n",
       "1       1  2679477.0      110001        1        29        2.0  8 a 11 anos   \n",
       "\n",
       "   CODOCUPMAE  QTDFILVIVO  QTDFILMORT  ...  KOTELCHUCK CONTADOR munResStatus  \\\n",
       "0         NaN         0.0         0.0  ...           5        1        ATIVO   \n",
       "1    999992.0         1.0         0.0  ...           5        2        ATIVO   \n",
       "\n",
       "  munResTipo             munResNome  munResUf  munResLat munResLon  munResAlt  \\\n",
       "0      MUNIC  Alta Floresta D'Oeste  Rondônia  -11.93554 -61.99982      338.0   \n",
       "1      MUNIC  Alta Floresta D'Oeste  Rondônia  -11.93554 -61.99982      338.0   \n",
       "\n",
       "   munResArea  \n",
       "0    7067.025  \n",
       "1    7067.025  \n",
       "\n",
       "[2 rows x 69 columns]"
      ]
     },
     "execution_count": 230,
     "metadata": {},
     "output_type": "execute_result"
    }
   ],
   "source": [
    "sinasc = pd.read_csv('b1abb33c4f.csv')\n",
    "print(sinasc.shape)\n",
    "print(sinasc.drop_duplicates().shape)\n",
    "# Não há duplicados\n",
    "sinasc.head(2)"
   ]
  },
  {
   "cell_type": "markdown",
   "metadata": {},
   "source": [
    "#### 2) Categorize a variável APGAR5 conforme as seguintes quebras:\n",
    "\n",
    "- 0 a 3: 'asfixia grave'\n",
    "- 4 a 5: 'asfixia moderada'\n",
    "- 6 a 7: 'asfixia leve'\n",
    "- 8 a 10: 'normal'"
   ]
  },
  {
   "cell_type": "code",
   "execution_count": 231,
   "metadata": {},
   "outputs": [
    {
     "name": "stdout",
     "output_type": "stream",
     "text": [
      "Quantidade de registros APGAR5 com NaN: 103\n",
      "\n",
      "Quantidade de registros APGAR5 com NaN: 0\n",
      "\n"
     ]
    }
   ],
   "source": [
    "count_apgar5 = sinasc['APGAR5'].isna().sum()\n",
    "print(f'Quantidade de registros APGAR5 com NaN: {count_apgar5}\\n')\n",
    "sinasc['APGAR5'].fillna(99, inplace=True)\n",
    "count_apgar5 = sinasc['APGAR5'].isna().sum()\n",
    "print(f'Quantidade de registros APGAR5 com NaN: {count_apgar5}\\n')"
   ]
  },
  {
   "cell_type": "code",
   "execution_count": 232,
   "metadata": {},
   "outputs": [
    {
     "data": {
      "text/plain": [
       "37 a 41 semanas        22589\n",
       "32 a 36 semanas         2249\n",
       "42 semanas e mais        700\n",
       "28 a 31 semanas          165\n",
       "22 a 27 semanas           86\n",
       "Menos de 22 semanas        7\n",
       "Name: GESTACAO, dtype: int64"
      ]
     },
     "execution_count": 232,
     "metadata": {},
     "output_type": "execute_result"
    }
   ],
   "source": [
    "#criando categoria para o APGAR5\n",
    "sinasc.loc[(sinasc['APGAR5'] <= 3), 'cat_apgar5'] = '1 - asfixia grave'\n",
    "sinasc.loc[(sinasc['APGAR5'] > 3 )& (sinasc['APGAR5'] <= 5), 'cat_apgar5'] = '2 - asfixia moderada'\n",
    "sinasc.loc[(sinasc['APGAR5'] > 5 )& (sinasc['APGAR5'] <= 7), 'cat_apgar5'] = '3 - asfixia leve'\n",
    "sinasc.loc[(sinasc['APGAR5'] > 7 )& (sinasc['APGAR5'] <= 10), 'cat_apgar5'] = '4 - normal'\n",
    "sinasc.loc[(sinasc['APGAR5'] == 99), 'cat_apgar5'] = '0 - Ignorado'\n",
    "\n",
    "sinasc['cat_apgar5'].value_counts()\n",
    "\n",
    "sinasc['GESTACAO'].value_counts()"
   ]
  },
  {
   "cell_type": "markdown",
   "metadata": {},
   "source": [
    "#### 3) Monte um gráfico comparando a distribuição de APGAR5 por sexo para cada grupo de tempo de gestação (GESTACAO)."
   ]
  },
  {
   "cell_type": "code",
   "execution_count": 233,
   "metadata": {},
   "outputs": [
    {
     "data": {
      "image/png": "[encoded data removed]",
      "text/plain": [
       "<Figure size 446x360 with 1 Axes>"
      ]
     },
     "metadata": {
      "needs_background": "light"
     },
     "output_type": "display_data"
    }
   ],
   "source": [
    "plt.close\n",
    "ax = sns.catplot(x='APGAR5', y='GESTACAO'\n",
    "            , hue = 'SEXO'\n",
    "            , kind='bar'\n",
    "            #, estimator = sum\n",
    "            , data=sinasc\n",
    "            , ci = None\n",
    "            ,order= ['Menos de 22 semanas','22 a 27 semanas','28 a 31 semanas','32 a 36 semanas','37 a 41 semanas','42 semanas e mais'],\n",
    "           )\n"
   ]
  },
  {
   "cell_type": "markdown",
   "metadata": {},
   "source": [
    "####  4) Monte uma tabela cruzada com APGAR5 nas colunas e GESTACAO nas linhas"
   ]
  },
  {
   "cell_type": "code",
   "execution_count": 234,
   "metadata": {},
   "outputs": [
    {
     "name": "stdout",
     "output_type": "stream",
     "text": [
      "cat_apgar5           0 - Ignorado  1 - asfixia grave  2 - asfixia moderada  \\\n",
      "GESTACAO                                                                     \n",
      "22 a 27 semanas                 1                 21                     1   \n",
      "28 a 31 semanas                 3                  3                    12   \n",
      "32 a 36 semanas                15                  8                    19   \n",
      "37 a 41 semanas                66                 33                    28   \n",
      "42 semanas e mais               2                  1                     1   \n",
      "Menos de 22 semanas             0                  2                     0   \n",
      "\n",
      "cat_apgar5           3 - asfixia leve  4 - normal  \n",
      "GESTACAO                                           \n",
      "22 a 27 semanas                    12          51  \n",
      "28 a 31 semanas                    18         129  \n",
      "32 a 36 semanas                    73        2134  \n",
      "37 a 41 semanas                   196       22266  \n",
      "42 semanas e mais                   6         690  \n",
      "Menos de 22 semanas                 1           4  \n"
     ]
    }
   ],
   "source": [
    "tab = pd.crosstab(sinasc['GESTACAO'], sinasc['cat_apgar5'])\n",
    "print(tab)"
   ]
  },
  {
   "cell_type": "markdown",
   "metadata": {},
   "source": [
    "####  5) Da tabela cruzada do intem anterior, calcule os percentuais de linha. Ou seja, a distribuição da variável APGAR5 para cada classe de GESTACAO dado."
   ]
  },
  {
   "cell_type": "code",
   "execution_count": 235,
   "metadata": {},
   "outputs": [
    {
     "data": {
      "text/html": [
       "<div>\n",
       "<style scoped>\n",
       "    .dataframe tbody tr th:only-of-type {\n",
       "        vertical-align: middle;\n",
       "    }\n",
       "\n",
       "    .dataframe tbody tr th {\n",
       "        vertical-align: top;\n",
       "    }\n",
       "\n",
       "    .dataframe thead th {\n",
       "        text-align: right;\n",
       "    }\n",
       "</style>\n",
       "<table border=\"1\" class=\"dataframe\">\n",
       "  <thead>\n",
       "    <tr style=\"text-align: right;\">\n",
       "      <th>cat_apgar5</th>\n",
       "      <th>0 - Ignorado</th>\n",
       "      <th>1 - asfixia grave</th>\n",
       "      <th>2 - asfixia moderada</th>\n",
       "      <th>3 - asfixia leve</th>\n",
       "      <th>4 - normal</th>\n",
       "    </tr>\n",
       "    <tr>\n",
       "      <th>GESTACAO</th>\n",
       "      <th></th>\n",
       "      <th></th>\n",
       "      <th></th>\n",
       "      <th></th>\n",
       "      <th></th>\n",
       "    </tr>\n",
       "  </thead>\n",
       "  <tbody>\n",
       "    <tr>\n",
       "      <th>22 a 27 semanas</th>\n",
       "      <td>0.011628</td>\n",
       "      <td>0.244186</td>\n",
       "      <td>0.011628</td>\n",
       "      <td>0.139535</td>\n",
       "      <td>0.593023</td>\n",
       "    </tr>\n",
       "    <tr>\n",
       "      <th>28 a 31 semanas</th>\n",
       "      <td>0.018182</td>\n",
       "      <td>0.018182</td>\n",
       "      <td>0.072727</td>\n",
       "      <td>0.109091</td>\n",
       "      <td>0.781818</td>\n",
       "    </tr>\n",
       "    <tr>\n",
       "      <th>32 a 36 semanas</th>\n",
       "      <td>0.006670</td>\n",
       "      <td>0.003557</td>\n",
       "      <td>0.008448</td>\n",
       "      <td>0.032459</td>\n",
       "      <td>0.948866</td>\n",
       "    </tr>\n",
       "    <tr>\n",
       "      <th>37 a 41 semanas</th>\n",
       "      <td>0.002922</td>\n",
       "      <td>0.001461</td>\n",
       "      <td>0.001240</td>\n",
       "      <td>0.008677</td>\n",
       "      <td>0.985701</td>\n",
       "    </tr>\n",
       "    <tr>\n",
       "      <th>42 semanas e mais</th>\n",
       "      <td>0.002857</td>\n",
       "      <td>0.001429</td>\n",
       "      <td>0.001429</td>\n",
       "      <td>0.008571</td>\n",
       "      <td>0.985714</td>\n",
       "    </tr>\n",
       "    <tr>\n",
       "      <th>Menos de 22 semanas</th>\n",
       "      <td>0.000000</td>\n",
       "      <td>0.285714</td>\n",
       "      <td>0.000000</td>\n",
       "      <td>0.142857</td>\n",
       "      <td>0.571429</td>\n",
       "    </tr>\n",
       "  </tbody>\n",
       "</table>\n",
       "</div>"
      ],
      "text/plain": [
       "cat_apgar5           0 - Ignorado  1 - asfixia grave  2 - asfixia moderada  \\\n",
       "GESTACAO                                                                     \n",
       "22 a 27 semanas          0.011628           0.244186              0.011628   \n",
       "28 a 31 semanas          0.018182           0.018182              0.072727   \n",
       "32 a 36 semanas          0.006670           0.003557              0.008448   \n",
       "37 a 41 semanas          0.002922           0.001461              0.001240   \n",
       "42 semanas e mais        0.002857           0.001429              0.001429   \n",
       "Menos de 22 semanas      0.000000           0.285714              0.000000   \n",
       "\n",
       "cat_apgar5           3 - asfixia leve  4 - normal  \n",
       "GESTACAO                                           \n",
       "22 a 27 semanas              0.139535    0.593023  \n",
       "28 a 31 semanas              0.109091    0.781818  \n",
       "32 a 36 semanas              0.032459    0.948866  \n",
       "37 a 41 semanas              0.008677    0.985701  \n",
       "42 semanas e mais            0.008571    0.985714  \n",
       "Menos de 22 semanas          0.142857    0.571429  "
      ]
     },
     "execution_count": 235,
     "metadata": {},
     "output_type": "execute_result"
    }
   ],
   "source": [
    "tab_pctlin = tab.div(tab.sum(axis = 1), axis = 0 )\n",
    "tab_pctlin"
   ]
  },
  {
   "cell_type": "code",
   "execution_count": 236,
   "metadata": {},
   "outputs": [],
   "source": [
    "#tab_pctlin.sum(axis = 1)"
   ]
  },
  {
   "cell_type": "markdown",
   "metadata": {},
   "source": [
    "####  6) Os médicos costumam classificar parto prematuro quando a gestação tem menos que 37 semanas. Faça um gráfico de barras da tabela cruzada acima e conclua se você acha que este conjunto de dados corrobora ou não com a afirmação dos médicos."
   ]
  },
  {
   "cell_type": "code",
   "execution_count": 237,
   "metadata": {},
   "outputs": [
    {
     "data": {
      "text/plain": [
       "<AxesSubplot:xlabel='GESTACAO'>"
      ]
     },
     "execution_count": 237,
     "metadata": {},
     "output_type": "execute_result"
    },
    {
     "data": {
      "image/png": "[encoded data removed]",
      "text/plain": [
       "<Figure size 432x288 with 1 Axes>"
      ]
     },
     "metadata": {
      "needs_background": "light"
     },
     "output_type": "display_data"
    }
   ],
   "source": [
    "tab_pctlin.plot.bar()\n",
    "# Acima de 37 semanas o percentual do APGAR5 passa a ser acima de 98%, corroborando para a afirmativa dos médicos.\n",
    " "
   ]
  },
  {
   "cell_type": "markdown",
   "metadata": {},
   "source": [
    "#### 7) Veja se há relação entre APGAR5 e o peso do bebê. Isso pode ser feito de diversas formas. Fique à vontade para escolher a melhor maneira na sua opinião, ou até testar mais de um dos gráficos que vimos. Fique à vontade também para consultar a documentação e utilizar algum outro recurso se achar conveniente."
   ]
  },
  {
   "cell_type": "code",
   "execution_count": 238,
   "metadata": {},
   "outputs": [
    {
     "data": {
      "text/plain": [
       "<seaborn.axisgrid.FacetGrid at 0x20c801a56d0>"
      ]
     },
     "execution_count": 238,
     "metadata": {},
     "output_type": "execute_result"
    },
    {
     "data": {
      "image/png": "[encoded data removed]",
      "text/plain": [
       "<Figure size 499x360 with 1 Axes>"
      ]
     },
     "metadata": {
      "needs_background": "light"
     },
     "output_type": "display_data"
    }
   ],
   "source": [
    "sns.displot(data = sinasc\n",
    "            ,alpha = .25\n",
    "            ,x = 'PESO'\n",
    "            ,hue = 'cat_apgar5'\n",
    "            ,bins = 20\n",
    "            ,element = 'step'\n",
    "            ,kde = True\n",
    "           )"
   ]
  },
  {
   "cell_type": "code",
   "execution_count": 245,
   "metadata": {},
   "outputs": [
    {
     "data": {
      "text/plain": [
       "4 - 3000g a 4000g    18004\n",
       "3 - 2000g a 3000g     6783\n",
       "5 - 4000g a 5000g     1535\n",
       "2 - 1000g a 2000g      561\n",
       "1 - menor 1000g        133\n",
       "6 - mais 5000g          12\n",
       "Name: cat_peso, dtype: int64"
      ]
     },
     "execution_count": 245,
     "metadata": {},
     "output_type": "execute_result"
    }
   ],
   "source": [
    "#criando categoria para o PESO\n",
    "sinasc.loc[(sinasc['PESO'] <= 1000), 'cat_peso'] = '1 - menor 1000g'\n",
    "sinasc.loc[(sinasc['PESO'] > 1000 )& (sinasc['APGAR5'] <= 2000), 'cat_peso'] = '2 - 1000g a 2000g'\n",
    "sinasc.loc[(sinasc['PESO'] > 2000 )& (sinasc['APGAR5'] <= 3000), 'cat_peso'] = '3 - 2000g a 3000g'\n",
    "sinasc.loc[(sinasc['PESO'] > 3000 )& (sinasc['APGAR5'] <= 4000), 'cat_peso'] = '4 - 3000g a 4000g'\n",
    "sinasc.loc[(sinasc['PESO'] > 4000 )& (sinasc['APGAR5'] <= 5000), 'cat_peso'] = '5 - 4000g a 5000g'\n",
    "sinasc.loc[(sinasc['PESO'] > 5000), 'cat_peso'] = '6 - mais 5000g'\n",
    "\n",
    "sinasc['cat_peso'].value_counts()"
   ]
  },
  {
   "cell_type": "code",
   "execution_count": 256,
   "metadata": {},
   "outputs": [],
   "source": [
    "#criando tabela cruzada cat_peso / cat_apgar5\n",
    "tab_peso = pd.crosstab(sinasc['cat_peso'], sinasc['cat_apgar5'])\n"
   ]
  },
  {
   "cell_type": "code",
   "execution_count": 257,
   "metadata": {},
   "outputs": [],
   "source": [
    "#criando a tabela de percentual de linha\n",
    "tab_pct = tab_peso.div(tab_peso.sum(axis = 1), axis = 0 )\n"
   ]
  },
  {
   "cell_type": "code",
   "execution_count": 259,
   "metadata": {},
   "outputs": [],
   "source": [
    "#tab_pct.sum(axis = 1) #conferencia percentuais de linha"
   ]
  },
  {
   "cell_type": "code",
   "execution_count": 260,
   "metadata": {},
   "outputs": [
    {
     "data": {
      "text/plain": [
       "<AxesSubplot:xlabel='cat_peso'>"
      ]
     },
     "execution_count": 260,
     "metadata": {},
     "output_type": "execute_result"
    },
    {
     "data": {
      "image/png": "[encoded data removed]",
      "text/plain": [
       "<Figure size 432x288 with 1 Axes>"
      ]
     },
     "metadata": {
      "needs_background": "light"
     },
     "output_type": "display_data"
    }
   ],
   "source": [
    "tab_pct.plot.bar()"
   ]
  },
  {
   "cell_type": "code",
   "execution_count": 250,
   "metadata": {},
   "outputs": [
    {
     "data": {
      "text/plain": [
       "<AxesSubplot:xlabel='cat_apgar5'>"
      ]
     },
     "execution_count": 250,
     "metadata": {},
     "output_type": "execute_result"
    },
    {
     "data": {
      "image/png": "[encoded data removed]",
      "text/plain": [
       "<Figure size 432x288 with 1 Axes>"
      ]
     },
     "metadata": {
      "needs_background": "light"
     },
     "output_type": "display_data"
    }
   ],
   "source": [
    "tab_apgar5 = pd.crosstab(sinasc['cat_apgar5'], sinasc['cat_peso']) # tabela cruzada cat_apgar5 / cat_peso\n",
    "tab_pct5 = tab_apgar5.div(tab_apgar5.sum(axis = 1), axis = 0 ) #tabela de percentuais de linha \n",
    "tab_pct5.plot.bar() #Neste gráfico temos como inferir que asfixia grave e moderada acontecem com maior frequência\n",
    "#                    em crianças com menos de 3000g. "
   ]
  },
  {
   "cell_type": "code",
   "execution_count": 261,
   "metadata": {},
   "outputs": [],
   "source": [
    "#criando categoria para o PESO2 com 3 faixas para visualizar melhor a inferencia acima.\n",
    "sinasc.loc[(sinasc['PESO'] <= 3000), 'cat_peso2'] = '1 - menor 3000g'\n",
    "sinasc.loc[(sinasc['PESO'] > 3000 )& (sinasc['APGAR5'] <= 4000), 'cat_peso2'] = '2 - 3000g a 4000g'\n",
    "sinasc.loc[(sinasc['PESO'] > 4000), 'cat_peso2'] = '3 - mais 4000g'"
   ]
  },
  {
   "cell_type": "code",
   "execution_count": 262,
   "metadata": {},
   "outputs": [
    {
     "data": {
      "text/html": [
       "<div>\n",
       "<style scoped>\n",
       "    .dataframe tbody tr th:only-of-type {\n",
       "        vertical-align: middle;\n",
       "    }\n",
       "\n",
       "    .dataframe tbody tr th {\n",
       "        vertical-align: top;\n",
       "    }\n",
       "\n",
       "    .dataframe thead th {\n",
       "        text-align: right;\n",
       "    }\n",
       "</style>\n",
       "<table border=\"1\" class=\"dataframe\">\n",
       "  <thead>\n",
       "    <tr style=\"text-align: right;\">\n",
       "      <th>cat_peso2</th>\n",
       "      <th>1 - menor 3000g</th>\n",
       "      <th>2 - 3000g a 4000g</th>\n",
       "      <th>3 - mais 4000g</th>\n",
       "    </tr>\n",
       "    <tr>\n",
       "      <th>cat_apgar5</th>\n",
       "      <th></th>\n",
       "      <th></th>\n",
       "      <th></th>\n",
       "    </tr>\n",
       "  </thead>\n",
       "  <tbody>\n",
       "    <tr>\n",
       "      <th>0 - Ignorado</th>\n",
       "      <td>48</td>\n",
       "      <td>54</td>\n",
       "      <td>1</td>\n",
       "    </tr>\n",
       "    <tr>\n",
       "      <th>1 - asfixia grave</th>\n",
       "      <td>48</td>\n",
       "      <td>22</td>\n",
       "      <td>4</td>\n",
       "    </tr>\n",
       "    <tr>\n",
       "      <th>2 - asfixia moderada</th>\n",
       "      <td>42</td>\n",
       "      <td>25</td>\n",
       "      <td>1</td>\n",
       "    </tr>\n",
       "    <tr>\n",
       "      <th>3 - asfixia leve</th>\n",
       "      <td>151</td>\n",
       "      <td>158</td>\n",
       "      <td>11</td>\n",
       "    </tr>\n",
       "    <tr>\n",
       "      <th>4 - normal</th>\n",
       "      <td>7188</td>\n",
       "      <td>17745</td>\n",
       "      <td>1530</td>\n",
       "    </tr>\n",
       "  </tbody>\n",
       "</table>\n",
       "</div>"
      ],
      "text/plain": [
       "cat_peso2             1 - menor 3000g  2 - 3000g a 4000g  3 - mais 4000g\n",
       "cat_apgar5                                                              \n",
       "0 - Ignorado                       48                 54               1\n",
       "1 - asfixia grave                  48                 22               4\n",
       "2 - asfixia moderada               42                 25               1\n",
       "3 - asfixia leve                  151                158              11\n",
       "4 - normal                       7188              17745            1530"
      ]
     },
     "execution_count": 262,
     "metadata": {},
     "output_type": "execute_result"
    }
   ],
   "source": [
    "tab_peso2 = pd.crosstab(sinasc['cat_apgar5'], sinasc['cat_peso2'])\n",
    "tab_peso2"
   ]
  },
  {
   "cell_type": "code",
   "execution_count": 263,
   "metadata": {},
   "outputs": [
    {
     "data": {
      "text/html": [
       "<div>\n",
       "<style scoped>\n",
       "    .dataframe tbody tr th:only-of-type {\n",
       "        vertical-align: middle;\n",
       "    }\n",
       "\n",
       "    .dataframe tbody tr th {\n",
       "        vertical-align: top;\n",
       "    }\n",
       "\n",
       "    .dataframe thead th {\n",
       "        text-align: right;\n",
       "    }\n",
       "</style>\n",
       "<table border=\"1\" class=\"dataframe\">\n",
       "  <thead>\n",
       "    <tr style=\"text-align: right;\">\n",
       "      <th>cat_peso2</th>\n",
       "      <th>1 - menor 3000g</th>\n",
       "      <th>2 - 3000g a 4000g</th>\n",
       "      <th>3 - mais 4000g</th>\n",
       "    </tr>\n",
       "    <tr>\n",
       "      <th>cat_apgar5</th>\n",
       "      <th></th>\n",
       "      <th></th>\n",
       "      <th></th>\n",
       "    </tr>\n",
       "  </thead>\n",
       "  <tbody>\n",
       "    <tr>\n",
       "      <th>0 - Ignorado</th>\n",
       "      <td>0.466019</td>\n",
       "      <td>0.524272</td>\n",
       "      <td>0.009709</td>\n",
       "    </tr>\n",
       "    <tr>\n",
       "      <th>1 - asfixia grave</th>\n",
       "      <td>0.648649</td>\n",
       "      <td>0.297297</td>\n",
       "      <td>0.054054</td>\n",
       "    </tr>\n",
       "    <tr>\n",
       "      <th>2 - asfixia moderada</th>\n",
       "      <td>0.617647</td>\n",
       "      <td>0.367647</td>\n",
       "      <td>0.014706</td>\n",
       "    </tr>\n",
       "    <tr>\n",
       "      <th>3 - asfixia leve</th>\n",
       "      <td>0.471875</td>\n",
       "      <td>0.493750</td>\n",
       "      <td>0.034375</td>\n",
       "    </tr>\n",
       "    <tr>\n",
       "      <th>4 - normal</th>\n",
       "      <td>0.271625</td>\n",
       "      <td>0.670559</td>\n",
       "      <td>0.057817</td>\n",
       "    </tr>\n",
       "  </tbody>\n",
       "</table>\n",
       "</div>"
      ],
      "text/plain": [
       "cat_peso2             1 - menor 3000g  2 - 3000g a 4000g  3 - mais 4000g\n",
       "cat_apgar5                                                              \n",
       "0 - Ignorado                 0.466019           0.524272        0.009709\n",
       "1 - asfixia grave            0.648649           0.297297        0.054054\n",
       "2 - asfixia moderada         0.617647           0.367647        0.014706\n",
       "3 - asfixia leve             0.471875           0.493750        0.034375\n",
       "4 - normal                   0.271625           0.670559        0.057817"
      ]
     },
     "execution_count": 263,
     "metadata": {},
     "output_type": "execute_result"
    }
   ],
   "source": [
    "tab_pct2 = tab_peso2.div(tab_peso2.sum(axis = 1), axis = 0 )\n",
    "tab_pct2"
   ]
  },
  {
   "cell_type": "code",
   "execution_count": 264,
   "metadata": {},
   "outputs": [
    {
     "data": {
      "text/plain": [
       "<AxesSubplot:xlabel='cat_apgar5'>"
      ]
     },
     "execution_count": 264,
     "metadata": {},
     "output_type": "execute_result"
    },
    {
     "data": {
      "image/png": "[encoded data removed]",
      "text/plain": [
       "<Figure size 432x288 with 1 Axes>"
      ]
     },
     "metadata": {
      "needs_background": "light"
     },
     "output_type": "display_data"
    }
   ],
   "source": [
    "tab_pct2.plot.bar() # neste gráfico fica mais visual que o percentual de asfixia grave e moderada é maior no grupo\n",
    "#                     de crianças com menos de 3000g. E que o percentual de apgar5 normal é maior em crianças entre 3000 e 4000g"
   ]
  }
 ],
 "metadata": {
  "kernelspec": {
   "display_name": "Python 3",
   "language": "python",
   "name": "python3"
  },
  "language_info": {
   "codemirror_mode": {
    "name": "ipython",
    "version": 3
   },
   "file_extension": ".py",
   "mimetype": "text/x-python",
   "name": "python",
   "nbconvert_exporter": "python",
   "pygments_lexer": "ipython3",
   "version": "3.8.8"
  }
 },
 "nbformat": 4,
 "nbformat_minor": 4
}
