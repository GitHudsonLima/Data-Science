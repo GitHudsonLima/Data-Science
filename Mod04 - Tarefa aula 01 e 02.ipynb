{
 "cells": [
  {
   "cell_type": "markdown",
   "metadata": {},
   "source": [
    "# Tarefa 01\n",
    "\n",
    "- Leia os enunciados com atenção\n",
    "- Saiba que pode haver mais de uma resposta correta\n",
    "- Insira novas células de código sempre que achar necessário\n",
    "- Em caso de dúvidas, procure os tutores\n",
    "- Divirta-se :)\n",
    "\n",
    "#### 1)  crie uma série do pandas a partir de uma lista com os dados abaixo:\n",
    "\n",
    "Em um estudo sobre alteração na tempreatura global, A NASA disponibiliza dados de diferenças de de temperatura média da superfície terrestre relativos às médias de temperatura entre 1951 e 1980. Os dados originais podem ser vistos no site da NASA/GISS, e estão dispostos a cada década na tabela abaixo.\n",
    "\n",
    "|ano|anomalia termica|\n",
    "|:-:|:----:|\n",
    "| 1900 | -0.08 |\n",
    "| 1920 | -0.27 |\n",
    "| 1940 | 0.12 |\n",
    "| 1960 | -0.03 |\n",
    "| 1980 | 0.26 |\n",
    "| 2000 | 0.40 |\n",
    "| 2020 | 1.02 |\n",
    "\n",
    "Crie uma séries do Pandas a partir de uma lista com esses dados."
   ]
  },
  {
   "cell_type": "code",
   "execution_count": 104,
   "metadata": {},
   "outputs": [
    {
     "name": "stdout",
     "output_type": "stream",
     "text": [
      "Series anomalia_termica \n",
      "0   -0.08\n",
      "1   -0.27\n",
      "2    0.12\n",
      "3   -0.03\n",
      "4    0.26\n",
      "5    0.40\n",
      "6    1.02\n",
      "dtype: float64\n"
     ]
    }
   ],
   "source": [
    "import pandas as pd\n",
    "import numpy as np\n",
    "\n",
    "# Seu código aqui\n",
    "termica = [-0.08,-0.27,0.12,-0.03,0.26,0.40,1.02]\n",
    "anomalia_termica = pd.Series(data=termica)\n",
    "print(f'Series anomalia_termica \\n{anomalia_termica}')"
   ]
  },
  {
   "cell_type": "markdown",
   "metadata": {},
   "source": [
    "#### 2) Coloque os anos nos índices conforme a tabela."
   ]
  },
  {
   "cell_type": "code",
   "execution_count": 105,
   "metadata": {},
   "outputs": [
    {
     "name": "stdout",
     "output_type": "stream",
     "text": [
      "Series anomalia_termica com index \n",
      "1900   -0.08\n",
      "1920   -0.27\n",
      "1940    0.12\n",
      "1960   -0.03\n",
      "1980    0.26\n",
      "2000    0.40\n",
      "2020    1.02\n",
      "dtype: float64\n"
     ]
    }
   ],
   "source": [
    "\n",
    "# seu código aqui\n",
    "anos = [\n",
    "1900,\n",
    "1920,\n",
    "1940,\n",
    "1960,\n",
    "1980,\n",
    "2000,\n",
    "2020\n",
    "]\n",
    "\n",
    "#criando a series com index\n",
    "anomalia_termica = pd.Series(data=termica, index=anos)\n",
    "\n",
    "print(f'Series anomalia_termica com index \\n{anomalia_termica}')"
   ]
  },
  {
   "cell_type": "markdown",
   "metadata": {},
   "source": [
    "#### 3) A partir do dicionário abaixo, crie uma séries do Pandas:"
   ]
  },
  {
   "cell_type": "code",
   "execution_count": 106,
   "metadata": {},
   "outputs": [
    {
     "name": "stdout",
     "output_type": "stream",
     "text": [
      "Series anomalia_termica_dict com index \n",
      "1900   -0.08\n",
      "1920   -0.27\n",
      "1940    0.12\n",
      "1960   -0.03\n",
      "1980    0.26\n",
      "2000    0.40\n",
      "2020    1.02\n",
      "dtype: float64\n"
     ]
    }
   ],
   "source": [
    "dic_temperaturas = {1900: -.08, 1920: -.27, 1940: .12, 1960: -.03, 1980: .26, 2000: .40, 2020: 1.02}\n",
    "\n",
    "# seu código aqui\n",
    "anomalia_termica_dict = pd.Series(dic_temperaturas)\n",
    "\n",
    "print(f'Series anomalia_termica_dict com index \\n{anomalia_termica_dict}')"
   ]
  },
  {
   "cell_type": "markdown",
   "metadata": {},
   "source": [
    "#### 4) Transforme o ndarray abaixo em um dataframe. \n",
    "O numpy é capaz de gerar arrays n-dimensionais com números pseudo-aleatórios de acordo com uma variedade de distribuições, como no exemplo abaixo. Transforme esse nd-array em um DataFrame."
   ]
  },
  {
   "cell_type": "code",
   "execution_count": 56,
   "metadata": {},
   "outputs": [
    {
     "name": "stdout",
     "output_type": "stream",
     "text": [
      "distribuicao_normal \n",
      "             0           1           2\n",
      "0   122.245377   79.039586   98.105133\n",
      "1    92.602358   93.674415   99.370951\n",
      "2   104.996692  117.365971   76.573982\n",
      "3   107.145853  101.978509   92.294219\n",
      "4   101.096297  110.016851  102.937745\n",
      "5   102.272735  109.236013   97.917900\n",
      "6    96.846748   95.483695  101.202713\n",
      "7    99.832055  108.474407  115.606094\n",
      "8   106.225609   86.727928  103.570027\n",
      "9    81.522019   92.404139  101.692538\n",
      "10  109.763112   82.785785  113.104113\n",
      "11  102.712482   90.800606  110.787309\n",
      "12  106.959090  108.769465  101.137328\n",
      "13   99.550035   96.815591  100.473796\n",
      "14  104.075945   95.133080  118.614846\n",
      "15   93.052198   88.201496  108.360372\n",
      "16  111.926622  105.757385   85.574851\n",
      "17   85.078408   98.122700   95.096169\n",
      "18   88.815822   88.536270   91.715108\n",
      "19   92.986921  100.157795   86.048713\n"
     ]
    }
   ],
   "source": [
    "arr = np.random.normal(100, 10, (20,3))\n",
    "\n",
    "# seu código aqui\n",
    "distribuicao_normal = pd.DataFrame(arr)\n",
    "print (f'distribuicao_normal \\n{distribuicao_normal}')\n"
   ]
  },
  {
   "cell_type": "markdown",
   "metadata": {},
   "source": [
    "#### 5) Nomeie os índices das linhas com inteiros de 1 a 20, e as colunas com os nomes \"x1\", \"x2\", e \"x3\" respectivamente."
   ]
  },
  {
   "cell_type": "code",
   "execution_count": 58,
   "metadata": {},
   "outputs": [
    {
     "name": "stdout",
     "output_type": "stream",
     "text": [
      "distribuicao_normal \n",
      "            x1          x2          x3\n",
      "1   122.245377   79.039586   98.105133\n",
      "2    92.602358   93.674415   99.370951\n",
      "3   104.996692  117.365971   76.573982\n",
      "4   107.145853  101.978509   92.294219\n",
      "5   101.096297  110.016851  102.937745\n",
      "6   102.272735  109.236013   97.917900\n",
      "7    96.846748   95.483695  101.202713\n",
      "8    99.832055  108.474407  115.606094\n",
      "9   106.225609   86.727928  103.570027\n",
      "10   81.522019   92.404139  101.692538\n",
      "11  109.763112   82.785785  113.104113\n",
      "12  102.712482   90.800606  110.787309\n",
      "13  106.959090  108.769465  101.137328\n",
      "14   99.550035   96.815591  100.473796\n",
      "15  104.075945   95.133080  118.614846\n",
      "16   93.052198   88.201496  108.360372\n",
      "17  111.926622  105.757385   85.574851\n",
      "18   85.078408   98.122700   95.096169\n",
      "19   88.815822   88.536270   91.715108\n",
      "20   92.986921  100.157795   86.048713\n"
     ]
    }
   ],
   "source": [
    "#seu código aqui\n",
    "distribuicao_normal.index=list(range(1,21))\n",
    "distribuicao_normal.columns = ['x1','x2','x3']\n",
    "print (f'distribuicao_normal \\n{distribuicao_normal}')"
   ]
  },
  {
   "cell_type": "markdown",
   "metadata": {},
   "source": [
    "#### 6) No DataFrame do exercício 5, crie uma nova coluna como sendo a média das três colunas, e dê a ela o nome de \"media\" (não recomendo colocar acentos em nomes de variáveis)."
   ]
  },
  {
   "cell_type": "code",
   "execution_count": 95,
   "metadata": {},
   "outputs": [
    {
     "name": "stdout",
     "output_type": "stream",
     "text": [
      "distribuicao_normal \n",
      "            x1          x2          x3       media\n",
      "1   122.245377   79.039586   98.105133   99.796699\n",
      "2    92.602358   93.674415   99.370951   95.215908\n",
      "3   104.996692  117.365971   76.573982   99.645549\n",
      "4   107.145853  101.978509   92.294219  100.472860\n",
      "5   101.096297  110.016851  102.937745  104.683631\n",
      "6   102.272735  109.236013   97.917900  103.142216\n",
      "7    96.846748   95.483695  101.202713   97.844385\n",
      "8    99.832055  108.474407  115.606094  107.970852\n",
      "9   106.225609   86.727928  103.570027   98.841188\n",
      "10   81.522019   92.404139  101.692538   91.872899\n",
      "11  109.763112   82.785785  113.104113  101.884337\n",
      "12  102.712482   90.800606  110.787309  101.433466\n",
      "13  106.959090  108.769465  101.137328  105.621961\n",
      "14   99.550035   96.815591  100.473796   98.946474\n",
      "15  104.075945   95.133080  118.614846  105.941291\n",
      "16   93.052198   88.201496  108.360372   96.538022\n",
      "17  111.926622  105.757385   85.574851  101.086286\n",
      "18   85.078408   98.122700   95.096169   92.765759\n",
      "19   88.815822   88.536270   91.715108   89.689067\n",
      "20   92.986921  100.157795   86.048713   93.064476\n"
     ]
    }
   ],
   "source": [
    "# seu código aqui\n",
    "\n",
    "distribuicao_normal['media'] = distribuicao_normal.mean(axis=1)\n",
    "print (f'distribuicao_normal \\n{distribuicao_normal}')"
   ]
  },
  {
   "cell_type": "markdown",
   "metadata": {},
   "source": [
    "#### 7) No DataFrame do exercício 6, crie uma nova coluna chamada \"log_med\", contendo o logaritmo natural da média calculada no exercício 6 <br>"
   ]
  },
  {
   "cell_type": "code",
   "execution_count": 103,
   "metadata": {},
   "outputs": [
    {
     "name": "stdout",
     "output_type": "stream",
     "text": [
      "distribuicao_normal com log natural \n",
      "            x1          x2          x3       media   log_med\n",
      "1   122.245377   79.039586   98.105133   99.796699  4.603135\n",
      "2    92.602358   93.674415   99.370951   95.215908  4.556147\n",
      "3   104.996692  117.365971   76.573982   99.645549  4.601619\n",
      "4   107.145853  101.978509   92.294219  100.472860  4.609888\n",
      "5   101.096297  110.016851  102.937745  104.683631  4.650943\n",
      "6   102.272735  109.236013   97.917900  103.142216  4.636109\n",
      "7    96.846748   95.483695  101.202713   97.844385  4.583378\n",
      "8    99.832055  108.474407  115.606094  107.970852  4.681861\n",
      "9   106.225609   86.727928  103.570027   98.841188  4.593514\n",
      "10   81.522019   92.404139  101.692538   91.872899  4.520406\n",
      "11  109.763112   82.785785  113.104113  101.884337  4.623838\n",
      "12  102.712482   90.800606  110.787309  101.433466  4.619403\n",
      "13  106.959090  108.769465  101.137328  105.621961  4.659866\n",
      "14   99.550035   96.815591  100.473796   98.946474  4.594579\n",
      "15  104.075945   95.133080  118.614846  105.941291  4.662885\n",
      "16   93.052198   88.201496  108.360372   96.538022  4.569937\n",
      "17  111.926622  105.757385   85.574851  101.086286  4.615974\n",
      "18   85.078408   98.122700   95.096169   92.765759  4.530078\n",
      "19   88.815822   88.536270   91.715108   89.689067  4.496349\n",
      "20   92.986921  100.157795   86.048713   93.064476  4.533293\n"
     ]
    }
   ],
   "source": [
    "# seu código aqui\n",
    "distribuicao_normal['log_med'] = np.log(distribuicao_normal['media'])\n",
    "print (f'distribuicao_normal com log natural \\n{distribuicao_normal}')"
   ]
  }
 ],
 "metadata": {
  "kernelspec": {
   "display_name": "Python 3",
   "language": "python",
   "name": "python3"
  },
  "language_info": {
   "codemirror_mode": {
    "name": "ipython",
    "version": 3
   },
   "file_extension": ".py",
   "mimetype": "text/x-python",
   "name": "python",
   "nbconvert_exporter": "python",
   "pygments_lexer": "ipython3",
   "version": "3.8.8"
  }
 },
 "nbformat": 4,
 "nbformat_minor": 4
}
