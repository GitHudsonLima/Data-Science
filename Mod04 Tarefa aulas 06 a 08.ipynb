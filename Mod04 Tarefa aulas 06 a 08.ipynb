{
 "cells": [
  {
   "cell_type": "markdown",
   "metadata": {},
   "source": [
    "# Tarefa 03\n",
    "\n",
    "- Leia os enunciados com atenção\n",
    "- Saiba que pode haver mais de uma resposta correta\n",
    "- Insira novas células de código sempre que achar necessário\n",
    "- Em caso de dúvidas, procure os Tutores\n",
    "- Divirta-se :)"
   ]
  },
  {
   "cell_type": "code",
   "execution_count": 7,
   "metadata": {},
   "outputs": [],
   "source": [
    "import pandas as pd\n",
    "import requests"
   ]
  },
  {
   "cell_type": "markdown",
   "metadata": {},
   "source": [
    "####  1) Lendo de APIs\n",
    "Vimos em aula como carregar dados públicos do governo através de um API (*Application Programming Interface*). No exemplo de aula, baixamos os dados de pedidos de verificação de limites (PVL) realizados por estados, e selecionamos apenas aqueles referentes ao estado de São Paulo.\n",
    "\n",
    "1. Repita os mesmos passos feitos em aula, mas selecione os PVLs realizados por municípios no estado do Rio de Janeiro.\n",
    "2. Quais são os três *status* das solicitações mais frequentes na base? Quais são suas frequências?\n",
    "3. Construa uma nova variável que contenha o ano do **status**. Observe que ```data_status``` vem como tipo *object* no **DataFrame**. Dica: você pode usar o método ```.str``` para transformar o tipo da variável em string, em seguida um método como [**slice()**](https://pandas.pydata.org/docs/reference/api/pandas.Series.str.slice.html) ou [**split()**](https://pandas.pydata.org/pandas-docs/stable/reference/api/pandas.Series.str.split.html).\n",
    "4. Indique a frequência de cada ano do campo construído no item (3)."
   ]
  },
  {
   "cell_type": "code",
   "execution_count": 92,
   "metadata": {},
   "outputs": [
    {
     "data": {
      "text/plain": [
       "200"
      ]
     },
     "execution_count": 92,
     "metadata": {},
     "output_type": "execute_result"
    }
   ],
   "source": [
    "# 1) Seu código aqui\n",
    "url = 'https://apidatalake.tesouro.gov.br/ords/sadipem/tt/pvl?uf=RJ&tipo_interessado=Município'\n",
    "\n",
    "r = requests.get(url)\n",
    "r.status_code"
   ]
  },
  {
   "cell_type": "code",
   "execution_count": 93,
   "metadata": {},
   "outputs": [],
   "source": [
    "data_json = r.json()\n",
    "df_rj = pd.DataFrame(data_json['items'])"
   ]
  },
  {
   "cell_type": "code",
   "execution_count": 94,
   "metadata": {},
   "outputs": [
    {
     "data": {
      "text/plain": [
       "Deferido                                                 87\n",
       "Arquivado                                                53\n",
       "Regularizado                                             25\n",
       "Arquivado por decurso de prazo                           23\n",
       "Deferido (PVL-IF)                                        14\n",
       "Encaminhado à PGFN com manifestação técnica favorável    11\n",
       "Arquivado a pedido                                        4\n",
       "Em retificação pelo interessado                           2\n",
       "Em retificação pelo interessado (PVL-IF)                  1\n",
       "Pendente de regularização                                 1\n",
       "Processo pendente de distribuição                         1\n",
       "Name: status, dtype: int64"
      ]
     },
     "execution_count": 94,
     "metadata": {},
     "output_type": "execute_result"
    }
   ],
   "source": [
    "# 2) Quais são os três status das solicitações mais frequentes na base? Quais são suas frequências?\n",
    "df_rj['status'].value_counts()\n"
   ]
  },
  {
   "cell_type": "code",
   "execution_count": 68,
   "metadata": {},
   "outputs": [
    {
     "data": {
      "text/html": [
       "<div>\n",
       "<style scoped>\n",
       "    .dataframe tbody tr th:only-of-type {\n",
       "        vertical-align: middle;\n",
       "    }\n",
       "\n",
       "    .dataframe tbody tr th {\n",
       "        vertical-align: top;\n",
       "    }\n",
       "\n",
       "    .dataframe thead th {\n",
       "        text-align: right;\n",
       "    }\n",
       "</style>\n",
       "<table border=\"1\" class=\"dataframe\">\n",
       "  <thead>\n",
       "    <tr style=\"text-align: right;\">\n",
       "      <th></th>\n",
       "      <th>id_pleito</th>\n",
       "      <th>tipo_interessado</th>\n",
       "      <th>interessado</th>\n",
       "      <th>cod_ibge</th>\n",
       "      <th>uf</th>\n",
       "      <th>num_pvl</th>\n",
       "      <th>status</th>\n",
       "      <th>num_processo</th>\n",
       "      <th>data_protocolo</th>\n",
       "      <th>tipo_operacao</th>\n",
       "      <th>finalidade</th>\n",
       "      <th>tipo_credor</th>\n",
       "      <th>credor</th>\n",
       "      <th>moeda</th>\n",
       "      <th>valor</th>\n",
       "      <th>pvl_assoc_divida</th>\n",
       "      <th>pvl_contradado_credor</th>\n",
       "      <th>data_status</th>\n",
       "      <th>ano_status</th>\n",
       "    </tr>\n",
       "  </thead>\n",
       "  <tbody>\n",
       "    <tr>\n",
       "      <th>0</th>\n",
       "      <td>9308</td>\n",
       "      <td>Município</td>\n",
       "      <td>Nova Iguaçu</td>\n",
       "      <td>3303500</td>\n",
       "      <td>RJ</td>\n",
       "      <td>None</td>\n",
       "      <td>Regularizado</td>\n",
       "      <td>17944.000951/2007-14</td>\n",
       "      <td>2007-06-18T03:00:00Z</td>\n",
       "      <td>Operação contratual interna</td>\n",
       "      <td>Regularização de Dívida - Energia Elétrica</td>\n",
       "      <td>Empresa Não Estatal</td>\n",
       "      <td>Light - Serviços de Eletricidade S/A</td>\n",
       "      <td>Real</td>\n",
       "      <td>1451915.2</td>\n",
       "      <td>1</td>\n",
       "      <td>0</td>\n",
       "      <td>02/08/2007</td>\n",
       "      <td>2007</td>\n",
       "    </tr>\n",
       "    <tr>\n",
       "      <th>1</th>\n",
       "      <td>22824</td>\n",
       "      <td>Município</td>\n",
       "      <td>Rio de Janeiro</td>\n",
       "      <td>3304557</td>\n",
       "      <td>RJ</td>\n",
       "      <td>00000.000000/2032-87</td>\n",
       "      <td>Deferido</td>\n",
       "      <td>17944.000749/2016-75</td>\n",
       "      <td>2016-08-11T03:00:00Z</td>\n",
       "      <td>Operação contratual interna</td>\n",
       "      <td>PMAT</td>\n",
       "      <td>Instituição Financeira Nacional</td>\n",
       "      <td>Banco Nacional de Desenvolvimento Econômico e ...</td>\n",
       "      <td>Real</td>\n",
       "      <td>45240000.0</td>\n",
       "      <td>1</td>\n",
       "      <td>0</td>\n",
       "      <td>01/09/2016</td>\n",
       "      <td>2016</td>\n",
       "    </tr>\n",
       "  </tbody>\n",
       "</table>\n",
       "</div>"
      ],
      "text/plain": [
       "   id_pleito tipo_interessado     interessado  cod_ibge  uf  \\\n",
       "0       9308        Município     Nova Iguaçu   3303500  RJ   \n",
       "1      22824        Município  Rio de Janeiro   3304557  RJ   \n",
       "\n",
       "                num_pvl        status          num_processo  \\\n",
       "0                  None  Regularizado  17944.000951/2007-14   \n",
       "1  00000.000000/2032-87      Deferido  17944.000749/2016-75   \n",
       "\n",
       "         data_protocolo                tipo_operacao  \\\n",
       "0  2007-06-18T03:00:00Z  Operação contratual interna   \n",
       "1  2016-08-11T03:00:00Z  Operação contratual interna   \n",
       "\n",
       "                                   finalidade  \\\n",
       "0  Regularização de Dívida - Energia Elétrica   \n",
       "1                                        PMAT   \n",
       "\n",
       "                       tipo_credor  \\\n",
       "0              Empresa Não Estatal   \n",
       "1  Instituição Financeira Nacional   \n",
       "\n",
       "                                              credor moeda       valor  \\\n",
       "0               Light - Serviços de Eletricidade S/A  Real   1451915.2   \n",
       "1  Banco Nacional de Desenvolvimento Econômico e ...  Real  45240000.0   \n",
       "\n",
       "   pvl_assoc_divida  pvl_contradado_credor data_status ano_status  \n",
       "0                 1                      0  02/08/2007       2007  \n",
       "1                 1                      0  01/09/2016       2016  "
      ]
     },
     "execution_count": 68,
     "metadata": {},
     "output_type": "execute_result"
    }
   ],
   "source": [
    "# 3) Construa uma nova variável que contenha o ano do status. Observe que data_status vem como tipo object no DataFrame. \n",
    "#    Dica: você pode usar o método .str para transformar o tipo da variável em string, em seguida um método como slice() \n",
    "#    ou split().\n",
    "\n",
    "df_rj['ano_status'] = df_rj['data_status'].str.slice(6,10)\n",
    "df_rj.head(2)"
   ]
  },
  {
   "cell_type": "code",
   "execution_count": 75,
   "metadata": {},
   "outputs": [
    {
     "data": {
      "text/plain": [
       "2008    37\n",
       "2007    29\n",
       "2014    20\n",
       "2010    19\n",
       "2019    17\n",
       "2013    15\n",
       "2020    15\n",
       "2012    13\n",
       "2011    10\n",
       "2009     9\n",
       "2015     9\n",
       "2021     6\n",
       "2017     5\n",
       "2018     4\n",
       "2006     4\n",
       "2016     4\n",
       "2002     4\n",
       "2004     1\n",
       "2003     1\n",
       "Name: ano_status, dtype: int64"
      ]
     },
     "execution_count": 75,
     "metadata": {},
     "output_type": "execute_result"
    }
   ],
   "source": [
    "#4) Indique a frequência de cada ano do campo construído no item (3).\n",
    "df_rj['ano_status'].value_counts()"
   ]
  },
  {
   "cell_type": "markdown",
   "metadata": {},
   "source": [
    "####  2) Melhorando a interação com o API\n",
    "Observe dois URLs de consultas diferentes, por exemplo o URL utilizado em aula, e o URL feito no exercício anterior. Compare-os e observe as diferenças.\n",
    "\n",
    "1. Faça uma função em Python que recebe como argumento o UF da consulta e o tipo de interessado (```'Estado'```ou ```Município```), e que devolve os dados da consulta no formato *DataFrame*.\n",
    "2. Quantas solicitações para o Estado podem ser consultadas para Minas Gerais com *status* em 'Arquivado por decurso de prazo' estão registradas?\n",
    "3. Qual é o município da Bahia com mais solicitações deferidas?\n",
    "4. Salve um arquivo .csv com os dados de solicitações da Bahia, com interessado = 'Estado'"
   ]
  },
  {
   "cell_type": "code",
   "execution_count": 98,
   "metadata": {},
   "outputs": [],
   "source": [
    "#1) Faça uma função em Python que recebe como argumento o UF da consulta e o tipo de interessado (```'Estado'```ou ```Município```)\n",
    "#    , e que devolve os dados da consulta no formato *DataFrame*.\n",
    "\n",
    "def consulta_pvl(estado: str, tpInteressado: str):\n",
    "    \n",
    "    url = 'https://apidatalake.tesouro.gov.br/ords/sadipem/tt/pvl?uf='+estado+'&tipo_interessado='+tpInteressado\n",
    "    r = requests.get(url)\n",
    "    data_json = r.json()\n",
    "    df_pvl = pd.DataFrame(data_json['items'])\n",
    "    return df_pvl\n"
   ]
  },
  {
   "cell_type": "code",
   "execution_count": 116,
   "metadata": {},
   "outputs": [
    {
     "data": {
      "text/plain": [
       "Encaminhado à PGFN com manifestação técnica favorável    20\n",
       "Deferido                                                  7\n",
       "Arquivado a pedido                                        5\n",
       "Arquivado                                                 3\n",
       "Arquivado pela STN                                        3\n",
       "Arquivado por decurso de prazo                            1\n",
       "Indeferido                                                1\n",
       "Name: status, dtype: int64"
      ]
     },
     "execution_count": 116,
     "metadata": {},
     "output_type": "execute_result"
    }
   ],
   "source": [
    "# 2) Quantas solicitações para o Estado podem ser consultadas para Minas Gerais com *status* \n",
    "#    em 'Arquivado por decurso de prazo' estão registradas?consulta_pvl('BA','Estado')\n",
    "\n",
    "df_mg = consulta_pvl('MG','Estado')\n",
    "df_mg['status'].value_counts()\n"
   ]
  },
  {
   "cell_type": "code",
   "execution_count": 134,
   "metadata": {},
   "outputs": [
    {
     "data": {
      "text/plain": [
       "Luís Eduardo Magalhães    14\n",
       "Vitória da Conquista      11\n",
       "Lauro de Freitas          10\n",
       "Camaçari                  10\n",
       "Barreiras                  8\n",
       "                          ..\n",
       "Paulo Afonso               1\n",
       "Ibotirama                  1\n",
       "Nazaré                     1\n",
       "Alcobaça                   1\n",
       "Cruz Das Almas             1\n",
       "Name: interessado, Length: 172, dtype: int64"
      ]
     },
     "execution_count": 134,
     "metadata": {},
     "output_type": "execute_result"
    }
   ],
   "source": [
    "# 3) Qual é o município da Bahia com mais solicitações deferidas?\n",
    "df_ba = consulta_pvl('BA','Município') #consultando os registros dos municípios do estado da Bahia\n",
    "df_ba_deferido = df_ba[(df_ba['status']=='Deferido')] #filtrando apenas os com status deferido\n",
    "df_ba_deferido['interessado'].value_counts() #realizando a contagem por interessados"
   ]
  },
  {
   "cell_type": "code",
   "execution_count": 143,
   "metadata": {},
   "outputs": [],
   "source": [
    "# 4) Salve um arquivo .csv com os dados de solicitações da Bahia, com interessado = 'Estado'\n",
    "df_ba_estado = consulta_pvl('BA','Estado') #consultado pvl do estado BA com interessado Estado\n",
    "df_ba_estado.head(10)\n",
    "df_ba_estado.to_csv('dataframe_BA_Estado.csv', index=False, sep=';', decimal=',', encoding='UTF-8')"
   ]
  }
 ],
 "metadata": {
  "kernelspec": {
   "display_name": "Python 3",
   "language": "python",
   "name": "python3"
  },
  "language_info": {
   "codemirror_mode": {
    "name": "ipython",
    "version": 3
   },
   "file_extension": ".py",
   "mimetype": "text/x-python",
   "name": "python",
   "nbconvert_exporter": "python",
   "pygments_lexer": "ipython3",
   "version": "3.8.8"
  }
 },
 "nbformat": 4,
 "nbformat_minor": 4
}
