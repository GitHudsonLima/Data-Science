{
 "cells": [
  {
   "cell_type": "markdown",
   "metadata": {},
   "source": [
    "# Tarefa 01\n",
    "\n",
    "- Leia os enunciados com atenção\n",
    "- Saiba que pode haver mais de uma resposta correta\n",
    "- Insira novas células de código sempre que achar necessário\n",
    "- Em caso de dúvidas, procure os tutores\n",
    "- Divirta-se :)"
   ]
  },
  {
   "cell_type": "markdown",
   "metadata": {},
   "source": [
    "### 01 - Teste de gravidez\n",
    "Escreva uma célula com controle de fluxos que tem como premissa a existência das seguintes variáveis:\n",
    "\n",
    "- ```sexo``` como ```str``` indicando os valores '**M**' para masculino e '**F**' para feminino  \n",
    "- ```beta_hcg``` que indica a quantidade do beta-HCG no sangue em mUI/mL.\n",
    "\n",
    "A sua tarefa é escrever um código que imprima como resultado \"indivíduo do sexo masculino\" quando sexo = 'M', caso sexo = 'F', se o valor de beta-HCG for maior que 5, retorne \"Positivo\" indicando que a paciente está grávida, e retorne \"Negativo\" caso contrário.\n",
    "\n",
    "Não mexa nos valores da variável ```sexo``` nem em ```beta_hcg```, e escreva um código que funcione para quaisquer valores possíveis de ambos: ```sexo``` = '**M**' ou '**F**' e ```beta_hcg``` assumindo valores inteiros positivos."
   ]
  },
  {
   "cell_type": "code",
   "execution_count": 16,
   "metadata": {},
   "outputs": [
    {
     "name": "stdout",
     "output_type": "stream",
     "text": [
      "Bem, você é do sexo masculino. A ciência não evoluiu tanto assim. Você ainda não pode engravidar, quem sabe em breve!\n"
     ]
    }
   ],
   "source": [
    "sexo = 'M'\n",
    "beta_hcg = 0\n",
    "\n",
    "# seu código vem abaixo desta linha\n",
    "if sexo == 'F' and beta_hcg > 5:\n",
    "    print('Parabéns você está grávida. WoW!')\n",
    "elif sexo == 'F' and beta_hcg < 5:\n",
    "    print('Ainda não foi dessa vez. Vamos continuar tentando, não desista!')\n",
    "elif sexo == 'M':\n",
    "    print('Bem, você é do sexo masculino. A ciência não evoluiu tanto assim. Você ainda não pode engravidar, quem sabe em breve!')\n",
    "else:\n",
    "    print('Não consigo responter esta :(. A opção sexo deve está definida com (M) Masculino ou (F) Feminino.')\n"
   ]
  },
  {
   "cell_type": "markdown",
   "metadata": {},
   "source": [
    "### 02 - Renomeando variáveis\n",
    "\n",
    "Vamos ver adiante que uma forma de renomear variáveis de um conjunto de dados é através de dicionários - o dicionário deve conter como chave o nome original, associando a cada chave um único valor (tipo *str*) que contenha o nome novo.\n",
    "\n",
    "A sua tarefa é escrever um dicionário que possa ser utilizado para traduzir as variáveis ```name``` (nome), ```age``` (idade) e ```income``` (renda). Ou seja, esse dicionário deve relacionar as chaves *name, age* e *income* às suas respectivas traduções."
   ]
  },
  {
   "cell_type": "code",
   "execution_count": 52,
   "metadata": {},
   "outputs": [
    {
     "name": "stdout",
     "output_type": "stream",
     "text": [
      "Apresentando todo o dicionário {'hudson': {'name': 'Hudson', 'age': 47, 'income': 10000.0}, 'lucas': {'name': 'Lucas', 'age': 45, 'income': 20000.0}}\n",
      "Acessando o income do hudson 10000.0\n"
     ]
    }
   ],
   "source": [
    "dic_renomeacao = {\n",
    "                    'hudson': {\n",
    "                        'name':'Hudson',\n",
    "                         'age': 47,\n",
    "                         'income': 10000.00\n",
    "                    },\n",
    "                    'lucas': {\n",
    "                        'name':'Lucas',\n",
    "                        'age': 45,\n",
    "                        'income': 20000.00\n",
    "                    },                    \n",
    "                 }\n",
    "\n",
    "print (f'Apresentando todo o dicionário {dic_renomeacao}')\n",
    "\n",
    "income_hudson = dic_renomeacao['hudson']['income']\n",
    "\n",
    "print (f'Acessando o income do hudson {income_hudson}')\n",
    "\n"
   ]
  },
  {
   "cell_type": "markdown",
   "metadata": {},
   "source": [
    "### 03 - É divisível?\n",
    "A sua tarefa é escrever um código que indique se um número ```N``` é divisível por um número P. Escreva um programa que faça essa verificação para quaisquer combinações de ```N``` e ```M``` e devolva uma mensagem indicativa no output."
   ]
  },
  {
   "cell_type": "code",
   "execution_count": 82,
   "metadata": {},
   "outputs": [
    {
     "name": "stdout",
     "output_type": "stream",
     "text": [
      "O número 42 é divisível por 7\n"
     ]
    }
   ],
   "source": [
    "N = 42\n",
    "M = 7\n",
    "\n",
    "#Seu código\n",
    "if M == 0 : \n",
    "    print(f'O denominador da divisão não pode ser igual a {M}')\n",
    "elif N % M == 0 :\n",
    "    print(f'O número {N} é divisível por {M}')\n",
    "else:\n",
    "    print(f'O número {N} NÃO é divisível por {M}')\n",
    "          \n"
   ]
  },
  {
   "cell_type": "markdown",
   "metadata": {},
   "source": [
    "### 04 - Números primos\n",
    "> Um número **N** é primo se e somente se é divisível por 1, -1, por **N** e por -**N**.  \n",
    "\n",
    "Escreva um script que verifica se ```N``` é um número primo, verificando se ```N``` é divisível por todos os números de ```1``` a ```N-1```. Você vai precisar usar alguma ferramenta de *loop* que você aprendeu para isto. No final, devolva uma mensagem no output indicando se o número é primo ou não."
   ]
  },
  {
   "cell_type": "code",
   "execution_count": 110,
   "metadata": {},
   "outputs": [
    {
     "name": "stdout",
     "output_type": "stream",
     "text": [
      "O número 47 é primo.\n"
     ]
    }
   ],
   "source": [
    "N = 47\n",
    "\n",
    "\n",
    "# seu código abaixo\n",
    "\n",
    "naoPrimo = 0\n",
    "\n",
    "for i in range(2,N):\n",
    "    if (N % i == 0):\n",
    "        naoPrimo += 1\n",
    "        \n",
    "if (naoPrimo == 0):\n",
    "    print(f'O número {N} é primo.')\n",
    "else:\n",
    "    print(f'O número {N} NÂO é primo.')\n",
    "    \n"
   ]
  },
  {
   "cell_type": "markdown",
   "metadata": {},
   "source": [
    "### 05 - Desafio\n",
    "O algorítmo do exercício anterior não é o mais eficiente. O que você pode fazer para deixá-lo mais eficiente? Ou seja, executar menos comparações, portanto consumir menos tempo.\n",
    "1. Será que precisamos correr o loop até o final sempre?\n",
    "2. Será que precisamos mesmo verificar **todos** os números?\n",
    "3. Será que precisamos ir até N-1?\n",
    "\n",
    "Essas perguntas levam ao tipo de pensamento voltado a deixar um algoritmo mais eficiente. Veja se você consegue melhorar o seu."
   ]
  },
  {
   "cell_type": "code",
   "execution_count": 132,
   "metadata": {},
   "outputs": [
    {
     "name": "stdout",
     "output_type": "stream",
     "text": [
      "O número 98 NÂO é primo.\n"
     ]
    }
   ],
   "source": [
    "N = 98\n",
    "\n",
    "# seu código aqui\n",
    "\n",
    "#lista criada para verificar a eficiencia do comando break\n",
    "#listaPrimo = []\n",
    "\n",
    "naoPrimo = 0\n",
    "\n",
    "for i in range(2,N):\n",
    "    #listaPrimo.append(i)\n",
    "    if (N % i == 0):\n",
    "        naoPrimo += 1\n",
    "        break\n",
    "        \n",
    "if (naoPrimo == 0):\n",
    "    print(f'O número {N} é primo.')\n",
    "else:\n",
    "    print(f'O número {N} NÂO é primo.')\n",
    "    \n",
    "#print (f'Números percorridos para verificar se é primo {listaPrimo}')"
   ]
  },
  {
   "cell_type": "markdown",
   "metadata": {},
   "source": [
    "### 06 - Peso ideal 1\n",
    "O IMC (índice de massa corpórea) é um indicador de saúde mais bem aceito que o peso. Ele é calculado como:\n",
    "\n",
    "$$ IMC = \\dfrac{peso}{altura^2}$$\n",
    "\n",
    "Segundo a OMS, valores *normais* são entre 18.5 e 24.9.\n",
    "\n",
    "Sua tarefa é encontrar o ponto médio dessa faixa."
   ]
  },
  {
   "cell_type": "code",
   "execution_count": 162,
   "metadata": {},
   "outputs": [
    {
     "name": "stdout",
     "output_type": "stream",
     "text": [
      " O ponto médio entre 18.5 m e 24.9 é 21.7.\n"
     ]
    }
   ],
   "source": [
    "meusNumeros = [18.5,24.9]\n",
    "imc_ideal = sum(meusNumeros)/len(meusNumeros)\n",
    "print (f' O ponto médio entre {meusNumeros[0]} m e {meusNumeros[1]} é {imc_ideal}.')"
   ]
  },
  {
   "cell_type": "markdown",
   "metadata": {},
   "source": [
    ")### 07 - Peso ideal 2\n",
    "Recebendo um valor de altura, encontre o peso '*ideal*' dessa pessoa, que fornece o IMC encontrado acima"
   ]
  },
  {
   "cell_type": "code",
   "execution_count": 169,
   "metadata": {},
   "outputs": [
    {
     "name": "stdout",
     "output_type": "stream",
     "text": [
      "O peso_ideal para a pessoa que tem a altura de 1.70 m e o imc de 21.7 é de 62.71.\n"
     ]
    }
   ],
   "source": [
    "altura = 1.70\n",
    "\n",
    "# Seu código\n",
    "peso_ideal = imc_ideal * (altura**2)\n",
    "print(f'O peso_ideal para a pessoa que tem a altura de {altura:.2f} m e o imc de {imc_ideal:.1f} é de {peso_ideal:.2f}.')\n"
   ]
  },
  {
   "cell_type": "markdown",
   "metadata": {},
   "source": [
    "### 08 - Peso ideal 3\n",
    "Dada uma lista contendo as alturas de pacientes, crie uma nova lista que contenha o peso '*ideal*' (que fornece o IMC calculado em **Peso ideal 1**) desses pacientes."
   ]
  },
  {
   "cell_type": "code",
   "execution_count": 170,
   "metadata": {},
   "outputs": [
    {
     "data": {
      "text/plain": [
       "[82.51424999999999, 91.19425, 62.712999999999994, 59.07824999999999]"
      ]
     },
     "execution_count": 170,
     "metadata": {},
     "output_type": "execute_result"
    }
   ],
   "source": [
    "lista_alturas = [1.95, 2.05, 1.70, 1.65]\n",
    "\n",
    "lista_peso_ideal = []\n",
    "\n",
    "# seu código\n",
    "for i in lista_alturas:\n",
    "    lista_peso_ideal.append(imc_ideal * (i**2))\n",
    "\n",
    "lista_peso_ideal"
   ]
  },
  {
   "cell_type": "markdown",
   "metadata": {},
   "source": [
    "### 09 - Peso ideal 4\n",
    "Dada uma lista de tuplas - cada elemento da lista é uma tupla contendo altura e peso de um paciente - crie uma nova lista com o IMC desses pacientes."
   ]
  },
  {
   "cell_type": "code",
   "execution_count": 192,
   "metadata": {},
   "outputs": [
    {
     "data": {
      "text/plain": [
       "[27.777777777777775, 27.548209366391188, 19.188070502453332]"
      ]
     },
     "execution_count": 192,
     "metadata": {},
     "output_type": "execute_result"
    }
   ],
   "source": [
    "altura_peso = [(1.80, 90), (1.65, 75), (1.91, 70)]\n",
    "\n",
    "imc = []\n",
    "\n",
    "# seu código\n",
    "for i in altura_peso:\n",
    "    imc.append(i[1]/(i[0]**2))\n",
    "\n",
    "imc"
   ]
  },
  {
   "cell_type": "markdown",
   "metadata": {},
   "source": [
    "### 10 - Peso ideal 5\n",
    "Dada uma lista de **listas** - cada elemento da lista é uma **lista** contendo altura e peso de um paciente, adicione mais um elemento à lista de cada paciente contendo o IMC do paciente. Verifique também se é 'baixo', 'normal' ou 'alto' segundo os padrões da OMS em que normal é entre 18.5 e 24.9.\n",
    "\n",
    "Reflexão: por que no problema anterior temos que criar uma nova lista, e não podemos adicionar os dados de cada indivíduo à tupla?"
   ]
  },
  {
   "cell_type": "code",
   "execution_count": 289,
   "metadata": {},
   "outputs": [
    {
     "name": "stdout",
     "output_type": "stream",
     "text": [
      "[[1.8, 90, 27.777777777777775, 'alto'], [1.65, 75, 27.548209366391188, 'alto'], [1.91, 70, 19.188070502453332, 'normal']]\n"
     ]
    }
   ],
   "source": [
    "altura_peso = [[1.80, 90], [1.65, 75], [1.91, 70]]\n",
    "\n",
    "altura_peso_novo = []\n",
    "posicao = 0\n",
    "a = 0\n",
    "b = 0\n",
    "imc = 0\n",
    "vimc = ''\n",
    "# seu código\n",
    "\n",
    "while a < len(altura_peso):\n",
    "    imc = altura_peso[a][1]/(altura_peso[a][0]**2)\n",
    "    if imc < 18.5: \n",
    "        vimc = 'baixo'\n",
    "    elif imc > 24.9:\n",
    "        vimc = 'alto'\n",
    "    else:\n",
    "        vimc = 'normal'\n",
    " \n",
    "    altura_peso[a].append(imc)\n",
    "    altura_peso[a].append(vimc)\n",
    "    \n",
    "    a += 1     \n",
    "\n",
    "print(altura_peso)\n"
   ]
  }
 ],
 "metadata": {
  "kernelspec": {
   "display_name": "Python 3",
   "language": "python",
   "name": "python3"
  },
  "language_info": {
   "codemirror_mode": {
    "name": "ipython",
    "version": 3
   },
   "file_extension": ".py",
   "mimetype": "text/x-python",
   "name": "python",
   "nbconvert_exporter": "python",
   "pygments_lexer": "ipython3",
   "version": "3.8.8"
  }
 },
 "nbformat": 4,
 "nbformat_minor": 4
}
