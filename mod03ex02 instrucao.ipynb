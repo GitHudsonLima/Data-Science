{
 "cells": [
  {
   "cell_type": "markdown",
   "metadata": {},
   "source": [
    "# Tarefa 02\n",
    "\n",
    "- Leia os enunciados com atenção\n",
    "- Saiba que pode haver mais de uma resposta correta\n",
    "- Insira novas células de código sempre que achar necessário\n",
    "- Em caso de dúvidas, procure os tutores\n",
    "- Divirta-se :)"
   ]
  },
  {
   "cell_type": "code",
   "execution_count": 187,
   "metadata": {},
   "outputs": [],
   "source": [
    "import numpy as np"
   ]
  },
  {
   "cell_type": "markdown",
   "metadata": {},
   "source": [
    "### 1) Alturas  \n",
    "i. No trecho de código abaixo, crie um ndarray chamado ```altura_em_centimetros``` transformando a lista ```lista_de_alturas``` em um ndarray do numpy com a função ```np.array()```  \n",
    "ii. Crie um outro objeto ```altura em metros```, com os valores de ```altura_em_centimetros``` convertidos para metros."
   ]
  },
  {
   "cell_type": "code",
   "execution_count": 188,
   "metadata": {},
   "outputs": [
    {
     "name": "stdout",
     "output_type": "stream",
     "text": [
      "lista_de_alturas [170, 175, 180, 185]\n",
      "array altura_em_centimetros [170 175 180 185]\n",
      "tipo array altura_em_centimetros <class 'numpy.ndarray'>\n"
     ]
    }
   ],
   "source": [
    "lista_de_alturas = list(range(170, 190, 5))\n",
    "print(f'lista_de_alturas {lista_de_alturas}')\n",
    "\n",
    "# seu código aqui\n",
    "altura_em_centimetros = np.array(lista_de_alturas)\n",
    "print (f'array altura_em_centimetros {altura_em_centimetros}')\n",
    "print (f'tipo array altura_em_centimetros {type(altura_em_centimetros)}')"
   ]
  },
  {
   "cell_type": "markdown",
   "metadata": {},
   "source": [
    "### 2) IMC  \n",
    "i. Considere que pesos em Kg dessas pessoas, na mesma ortem, estão na lista pesos ```lista_pesos = [70, 75, 80, 85]```. Crie um **ndarray** chamado ```pesos``` com a função ```np.array()``` que contenha esses valores.  \n",
    "ii. Utilizando o objeto que contém as alturas em metros e esse objeto que contém os respectivos pesos em quilos, calcule o IMC desses indivíduos utilizando a aritmética de arrays e guarde os resultados em um objeto chamado ```imc```."
   ]
  },
  {
   "cell_type": "code",
   "execution_count": 189,
   "metadata": {},
   "outputs": [
    {
     "name": "stdout",
     "output_type": "stream",
     "text": [
      "array pesos [70 75 80 85]\n"
     ]
    }
   ],
   "source": [
    "lista_pesos = [70, 75, 80, 85]\n",
    "# seu código aqui\n",
    "\n",
    "#criando ndarray chamado pesos\n",
    "pesos = np.array(lista_pesos)\n",
    "print(f'array pesos {pesos}')\n",
    "\n"
   ]
  },
  {
   "cell_type": "code",
   "execution_count": 190,
   "metadata": {},
   "outputs": [
    {
     "name": "stdout",
     "output_type": "stream",
     "text": [
      "imc [0.00242215 0.00244898 0.00246914 0.00248356]\n"
     ]
    }
   ],
   "source": [
    "# calcule o IMC dessas pessoas\n",
    "\n",
    "#imc = peso/(altura * altura)\n",
    "\n",
    "imc = pesos / (altura_em_centimetros ** 2)\n",
    "print(f'imc {imc}')"
   ]
  },
  {
   "cell_type": "markdown",
   "metadata": {},
   "source": [
    "### 3) Endividamento\n",
    "\n",
    "Cálculos de novas variáveis como endividamento total e comprometimento de renda são essenciais para a construção de modelos financeiros em ciência de dados. Áreas não financeiras terão cálculos semelhantes também. Vamos praticar:\n",
    "\n",
    "Considere que o seguinte ndarray contém os dados de 4 pessoas, total a ser pago a empréstimos mensalmente e renda familiar:\n",
    "\n",
    "| custo fixo | dívida financeira | renda familiar |\n",
    "|:----:|:----:|:---|\n",
    "| 3000  | 1000 | 6000 |\n",
    "| 2500  | 2500 | 5500 |\n",
    "| 1000  | 3000 | 7000 |\n",
    "| 10000 | 5000 | 16000 |\n",
    "\n",
    "i. Transforme a lista de listas ```dados_financeiros``` no ndarray ```nd_financeiros```.\n",
    "> ``` dados_financeiros[[3000, 2500, 1000, 10000],[1000, 2500, 3000, 5000],[6000, 5500, 7000, 16000]] ```\n",
    "\n",
    "ii. Utilize o método ```.transpose ``` e certifique-se de que esse ndarray tenha uma linha por indivíduo e uma coluna por informação. Utilizando a indexação do numpy, imprima no output a segunda linha do array, depois a segunda coluna.\n",
    "\n",
    "iii. Pratique aritmética com nearrays e calcule o endividamento total como:\n",
    "$$endividamento\\hspace{.2cm}total = \\frac{custo \\hspace{.2cm}fixo + dívida\\hspace{.2cm}financeira}{renda\\hspace{.2cm}familiar}$$\n",
    "Guarde os resultados em uma variável chamada ```endividamento_total``` e verifique os resultados imprimindo o conteúdo dessa variável no output.\n",
    "\n",
    "iv. Considere que há um erro de digitação que precisa ser corrigido: 3o indivíduo na verdade não possui renda familiar de R\\\\$7.000,00, mas sim R\\\\$ 10.000,00. Corrija esse valor e refaça os cálculos."
   ]
  },
  {
   "cell_type": "code",
   "execution_count": 191,
   "metadata": {},
   "outputs": [
    {
     "name": "stdout",
     "output_type": "stream",
     "text": [
      "nd_financeiros [[ 3000  2500  1000 10000]\n",
      " [ 1000  2500  3000  5000]\n",
      " [ 6000  5500  7000 16000]]\n"
     ]
    }
   ],
   "source": [
    "# lista dados_financeiros\n",
    "dados_financeiros = [[3000, 2500, 1000, 10000],[1000, 2500, 3000, 5000],[6000, 5500, 7000, 16000]]\n",
    "#i) transforme essa lista em um ndarray\n",
    "nd_financeiros = np.array(dados_financeiros)\n",
    "print (f'nd_financeiros {nd_financeiros}')"
   ]
  },
  {
   "cell_type": "code",
   "execution_count": 192,
   "metadata": {},
   "outputs": [
    {
     "name": "stdout",
     "output_type": "stream",
     "text": [
      "nd_financeiros [[ 3000  1000  6000]\n",
      " [ 2500  2500  5500]\n",
      " [ 1000  3000  7000]\n",
      " [10000  5000 16000]]\n",
      "segunda linha do array nd_financeiros_t [2500 2500 5500]\n",
      "segunda coluna do array nd_financeiros_t [1000 2500 3000 5000]\n"
     ]
    }
   ],
   "source": [
    "# ii) \n",
    "# metodo .transpose\n",
    "nd_financeiros_t = np.transpose(nd_financeiros)\n",
    "print(f'nd_financeiros {nd_financeiros_t}')\n",
    "\n",
    "#segunda linha do array, depois a segunda coluna.\n",
    "print(f'segunda linha do array nd_financeiros_t {nd_financeiros_t[1]}')\n",
    "print(f'segunda coluna do array nd_financeiros_t {nd_financeiros_t[:,1]}')"
   ]
  },
  {
   "cell_type": "code",
   "execution_count": 193,
   "metadata": {},
   "outputs": [
    {
     "name": "stdout",
     "output_type": "stream",
     "text": [
      "endividamento_total [0.66666667 0.90909091 0.57142857 0.9375    ]\n"
     ]
    }
   ],
   "source": [
    "# iii) Calcule o endividamento total\n",
    "endividamento_total = (nd_financeiros_t[:,0] + nd_financeiros_t[:,1])/nd_financeiros_t[:,2]\n",
    "\n",
    "print(f'endividamento_total {endividamento_total}')      "
   ]
  },
  {
   "cell_type": "code",
   "execution_count": 194,
   "metadata": {},
   "outputs": [
    {
     "name": "stdout",
     "output_type": "stream",
     "text": [
      "nd_financeiros_t  [[ 3000  1000  6000]\n",
      " [ 2500  2500  5500]\n",
      " [ 1000  3000 10000]\n",
      " [10000  5000 16000]]\n",
      "endividamento_total [0.66666667 0.90909091 0.4        0.9375    ]\n"
     ]
    }
   ],
   "source": [
    "# iv) corrigindo um valor específico\n",
    "nd_financeiros_t[2,2] = 10000 \n",
    "print (f'nd_financeiros_t  {nd_financeiros_t}')\n",
    "\n",
    "#calculando o endividamento total após a correção\n",
    "endividamento_total = (nd_financeiros_t[:,0] + nd_financeiros_t[:,1])/nd_financeiros_t[:,2]\n",
    "\n",
    "print(f'endividamento_total {endividamento_total}')   "
   ]
  },
  {
   "cell_type": "markdown",
   "metadata": {},
   "source": [
    "### 4) É muito comum precisarmos identificar valores especiais e darmos tratamento a eles quer seja alterando-os quer seja descartando-os. \n",
    "\n",
    "O trecho de código abaixo gera um ndarray com números pseudo aleatórios. Considere que para efeitos do estudo que virá, devemos desconsiderar valores iguais a zero. Sendo assim:\n",
    "\n",
    "i) crie um objeto ```bool_zero``` que traga uma sequencia de booleanos do mesmo tamanho que o objeto poi, e que vale ```True``` quando o valor de ```poi``` é zero, e ```False``` caso contrário.\n",
    "\n",
    "ii) Conte quantos valores zero existem. Lembre-se de que no final das contas, ```True``` vale 1 para o Python, e ```False``` vale zero, então uma boa dica seria usar a função ```sum()```.\n",
    "\n",
    "iii) Utilize a indexação booleana que você aprendeu para criar uma variável ```poi_nao_zero``` que aponta para os elementos de ```poi``` diferentes de zero. Dica: você vai pode inverter os elementos do objeto que criou em *ii)* ou escrever a comparação adequada."
   ]
  },
  {
   "cell_type": "code",
   "execution_count": 215,
   "metadata": {},
   "outputs": [
    {
     "name": "stdout",
     "output_type": "stream",
     "text": [
      "poi [727112 728339 217473 ... 131947 470360 385640]\n"
     ]
    }
   ],
   "source": [
    "# objeto poi - obs: o comando np.random.seed(1234) garante que o mesmo resultado será gerado sempre\n",
    "np.random.seed(12345) ;\n",
    "poi =  np.array(random.sample(range(0,1000000), k=10000))\n",
    "#poi = np.array([10,0,0,15])\n",
    "\n",
    "print (f'poi {poi}')\n"
   ]
  },
  {
   "cell_type": "code",
   "execution_count": 216,
   "metadata": {},
   "outputs": [
    {
     "name": "stdout",
     "output_type": "stream",
     "text": [
      "bool_zero [False False False ... False False False]\n"
     ]
    }
   ],
   "source": [
    "# i) crie o objeto bool_zero através do operador ==\n",
    "bool_zero = poi == 0\n",
    "print (f'bool_zero {bool_zero}')"
   ]
  },
  {
   "cell_type": "code",
   "execution_count": 217,
   "metadata": {},
   "outputs": [
    {
     "name": "stdout",
     "output_type": "stream",
     "text": [
      "soma 0\n"
     ]
    }
   ],
   "source": [
    "# ii) Conte a quantidade de zeros (ou some os elementos de bool_zero)\n",
    "soma = bool_zero.sum() \n",
    "print(f'soma {soma}')"
   ]
  },
  {
   "cell_type": "code",
   "execution_count": 218,
   "metadata": {},
   "outputs": [
    {
     "name": "stdout",
     "output_type": "stream",
     "text": [
      "bool_zero [False False False ... False False False]\n",
      "bool_nao_zero [ True  True  True ...  True  True  True]\n",
      "poi_nao_zero [727112 728339 217473 ... 131947 470360 385640]\n"
     ]
    }
   ],
   "source": [
    "# iii) utilize a indexação booleana para criar uma seleção de não-zeros\n",
    "# dica: inverta o objeto bool_zero\n",
    "\n",
    "print (f'bool_zero {bool_zero}')\n",
    "\n",
    "#invertendo o array bool\n",
    "bool_nao_zero = np.invert(bool_zero)\n",
    "\n",
    "print (f'bool_nao_zero {bool_nao_zero}')\n",
    "\n",
    "#utilizando a indexação booleana\n",
    "poi_nao_zero = poi[bool_nao_zero]\n",
    "print (f'poi_nao_zero {poi_nao_zero}')"
   ]
  }
 ],
 "metadata": {
  "kernelspec": {
   "display_name": "Python 3",
   "language": "python",
   "name": "python3"
  },
  "language_info": {
   "codemirror_mode": {
    "name": "ipython",
    "version": 3
   },
   "file_extension": ".py",
   "mimetype": "text/x-python",
   "name": "python",
   "nbconvert_exporter": "python",
   "pygments_lexer": "ipython3",
   "version": "3.8.8"
  }
 },
 "nbformat": 4,
 "nbformat_minor": 4
}
